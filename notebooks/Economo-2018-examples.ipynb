{
 "cells": [
  {
   "cell_type": "markdown",
   "metadata": {},
   "source": [
    "# Economo-2018 - A DataJoint example\n",
    "This notebook presents data and results associated with the following papers:\n",
    "\n",
    ">Michael N. Economo, Sarada Viswanathan, Bosiljka Tasic, Erhan Bas, Johan Winnubst, Vilas Menon, Lucas T. Graybuck,Thuc Nghi Nguyen, Kimberly A. Smith, Zizhen Yao, Lihua Wang, Charles R. Gerfen, Jayaram Chandrashekar, Hongkui Zeng, Loren L. Looger & Karel Svoboda. \"Distinct descending motor cortex\n",
    "pathways and their roles in movement\" (2018) Nature (https://doi.org/10.1038/s41586-018-0642-9)\n",
    "\n",
    "Original data is publically available at: doi: 10.25378/janelia.7007846\n",
    "\n",
    "The data in original MATLAB format (.mat) have been ingested into a DataJoint data pipeline presented below. This notebook demonstrates the queries, processing, and reproduction of several figures from the paper."
   ]
  },
  {
   "cell_type": "code",
   "execution_count": 1,
   "metadata": {},
   "outputs": [
    {
     "name": "stdout",
     "output_type": "stream",
     "text": [
      "Connecting root@127.0.0.1:3306\n"
     ]
    }
   ],
   "source": [
    "from datetime import datetime\n",
    "import os\n",
    "os.chdir('..')\n",
    "\n",
    "import matplotlib.pyplot as plt\n",
    "import numpy as np\n",
    "import pandas as pd\n",
    "import seaborn as sns\n",
    "\n",
    "import datajoint as dj\n",
    "from pipeline import (reference, subject, acquisition, analysis,\n",
    "                      extracellular, behavior, utilities)"
   ]
  },
  {
   "cell_type": "markdown",
   "metadata": {},
   "source": [
    "## Data queries, conditioning, and reconstruction of Extended Data Figure 5\n",
    "\n",
    "#### Queries of unit spike times and inter-spike interval, categorized by:\n",
    "+ Cell type: PTupper vs. PTlower\n",
    "+ Trial type: left-lick vs. right-lick\n",
    "+ Hemisphere: left (contralateral to injection site) vs. right (ipsilateral to injection site)"
   ]
  },
  {
   "cell_type": "code",
   "execution_count": 2,
   "metadata": {},
   "outputs": [],
   "source": [
    "# define trial restrictors\n",
    "leftlick_trial = {'trial_type': 'lick left', 'trial_is_good': True, 'trial_response': 'correct'}\n",
    "rightlick_trial = {'trial_type': 'lick right', 'trial_is_good': True, 'trial_response': 'correct'}"
   ]
  },
  {
   "cell_type": "code",
   "execution_count": 3,
   "metadata": {},
   "outputs": [],
   "source": [
    "# units\n",
    "good_units_filt = ['unit_quality=\"Excellent\"', 'unit_quality=\"Good\"', 'unit_quality=\"Single\"']\n",
    "\n",
    "lh_PTupper_units = (extracellular.UnitSpikeTimes & 'unit_cell_type=\"PTupper\"' & 'hemisphere=\"left\"' & good_units_filt)\n",
    "lh_PTlower_units = (extracellular.UnitSpikeTimes & 'unit_cell_type=\"PTlower\"' & 'hemisphere=\"left\"' & good_units_filt)\n",
    "\n",
    "rh_PTupper_units = (extracellular.UnitSpikeTimes & 'unit_cell_type=\"PTupper\"' & 'hemisphere=\"right\"' & good_units_filt)\n",
    "rh_PTlower_units = (extracellular.UnitSpikeTimes & 'unit_cell_type=\"PTlower\"' & 'hemisphere=\"right\"' & good_units_filt)"
   ]
  },
  {
   "cell_type": "code",
   "execution_count": 4,
   "metadata": {},
   "outputs": [
    {
     "name": "stdout",
     "output_type": "stream",
     "text": [
      "Left-ALM PTupper unit counts: 65\n",
      "Left-ALM PTlower unit counts: 46\n",
      "Right-ALM PTupper unit counts: 0\n",
      "Right-ALM PTlower unit counts: 32\n"
     ]
    }
   ],
   "source": [
    "print(f'Left-ALM PTupper unit counts: {len(lh_PTupper_units)}')\n",
    "print(f'Left-ALM PTlower unit counts: {len(lh_PTlower_units)}')\n",
    "print(f'Right-ALM PTupper unit counts: {len(rh_PTupper_units)}')\n",
    "print(f'Right-ALM PTlower unit counts: {len(rh_PTlower_units)}')"
   ]
  },
  {
   "cell_type": "code",
   "execution_count": 5,
   "metadata": {},
   "outputs": [],
   "source": [
    "# Specify segmentation setting to align to \"cue-onset\" event\n",
    "seg_param_key = (analysis.TrialSegmentationSetting & {'event': 'cue_start'}).fetch1()"
   ]
  },
  {
   "cell_type": "markdown",
   "metadata": {},
   "source": [
    "#### Per unit, perform:\n",
    "+ extract spike-times and psth for all trials for left-lick and right-lick\n",
    "+ compute inter-spike intervals for all spikes in all trials\n",
    "+ exclude results with less than 50 correct trial-repsonse"
   ]
  },
  {
   "cell_type": "code",
   "execution_count": 6,
   "metadata": {},
   "outputs": [],
   "source": [
    "# per unit, extract spike-times and psth\n",
    "correct_trial_count_thresh = 50  # 50 correct trial of each left/right type\n",
    "def get_psth_isi(unit_key):\n",
    "    l_spks, l_psths = (extracellular.TrialSegmentedUnitSpikeTimes * extracellular.PSTH & unit_key & seg_param_key \n",
    "                       & (acquisition.TrialSet.Trial & leftlick_trial)).fetch('segmented_spike_times', 'psth')\n",
    "    r_spks, r_psths = (extracellular.TrialSegmentedUnitSpikeTimes * extracellular.PSTH & unit_key & seg_param_key\n",
    "                       & (acquisition.TrialSet.Trial & rightlick_trial)).fetch('segmented_spike_times', 'psth')\n",
    "    \n",
    "    if len(l_spks) < correct_trial_count_thresh or len(r_spks) < correct_trial_count_thresh:\n",
    "        return None\n",
    "        \n",
    "    out = dict(isi=np.hstack(np.diff(spk) for spk in np.hstack([l_spks, r_spks])), \n",
    "               l_psth=np.vstack(psth for psth in l_psths).mean(axis=0),\n",
    "               r_psth=np.vstack(psth for psth in r_psths).mean(axis=0))\n",
    "    return out"
   ]
  },
  {
   "cell_type": "code",
   "execution_count": 7,
   "metadata": {},
   "outputs": [],
   "source": [
    "lh_PTupper_units_psth = [v for v in [get_psth_isi(u) for u in lh_PTupper_units] if v]\n",
    "lh_PTlower_units_psth = [v for v in [get_psth_isi(u) for u in lh_PTlower_units] if v]\n",
    "rh_PTupper_units_psth = [v for v in [get_psth_isi(u) for u in rh_PTupper_units] if v]\n",
    "rh_PTlower_units_psth = [v for v in [get_psth_isi(u) for u in rh_PTlower_units] if v]"
   ]
  },
  {
   "cell_type": "code",
   "execution_count": 8,
   "metadata": {},
   "outputs": [
    {
     "name": "stdout",
     "output_type": "stream",
     "text": [
      "Left-ALM PTupper unit counts: 62\n",
      "Left-ALM PTlower unit counts: 46\n",
      "Right-ALM PTupper unit counts: 0\n",
      "Right-ALM PTlower unit counts: 32\n"
     ]
    }
   ],
   "source": [
    "print(f'Left-ALM PTupper unit counts: {len(lh_PTupper_units_psth)}')\n",
    "print(f'Left-ALM PTlower unit counts: {len(lh_PTlower_units_psth)}')\n",
    "print(f'Right-ALM PTupper unit counts: {len(rh_PTupper_units_psth)}')\n",
    "print(f'Right-ALM PTlower unit counts: {len(rh_PTlower_units_psth)}')"
   ]
  },
  {
   "cell_type": "markdown",
   "metadata": {},
   "source": [
    "#### Plot PSTH and ISI"
   ]
  },
  {
   "cell_type": "code",
   "execution_count": 9,
   "metadata": {},
   "outputs": [],
   "source": [
    "def split_list(arr, chunk_size):\n",
    "    for s in range(0, len(arr), chunk_size):\n",
    "        yield arr[s:s+chunk_size]"
   ]
  },
  {
   "cell_type": "code",
   "execution_count": 10,
   "metadata": {},
   "outputs": [],
   "source": [
    "edges = np.arange(-.025, .025, .0005)\n",
    "def plot_psth_isi(isi_psth_dict, axs):\n",
    "    psth_time = np.linspace(-1 * float(seg_param_key['pre_stim_duration']), \n",
    "                            float(seg_param_key['post_stim_duration']),\n",
    "                            len(isi_psth_dict['l_psth']))\n",
    "    \n",
    "    axs[0].hist(np.vstack([isi_psth_dict['isi'], -isi_psth_dict['isi']]), \n",
    "                                                      bins=len(edges), range=(edges[0], edges[-1]))\n",
    "    \n",
    "    axs[1].plot(psth_time, isi_psth_dict['l_psth'], 'r')\n",
    "    axs[1].plot(psth_time, isi_psth_dict['r_psth'], 'b')\n",
    "    "
   ]
  },
  {
   "cell_type": "code",
   "execution_count": null,
   "metadata": {},
   "outputs": [],
   "source": [
    "fig, axes = plt.subplots(2, 4)\n",
    "for axs, isi_psth_dict in zip(axes.T, lh_PTupper_units_psth[:5]):\n",
    "    plot_psth_isi(isi_psth_dict, axs)"
   ]
  },
  {
   "cell_type": "code",
   "execution_count": null,
   "metadata": {},
   "outputs": [],
   "source": []
  },
  {
   "cell_type": "code",
   "execution_count": null,
   "metadata": {},
   "outputs": [],
   "source": []
  },
  {
   "cell_type": "code",
   "execution_count": null,
   "metadata": {},
   "outputs": [],
   "source": [
    "extracellular.UnitSpikeTimes & good_units_filt"
   ]
  },
  {
   "cell_type": "code",
   "execution_count": null,
   "metadata": {},
   "outputs": [],
   "source": [
    "set(extracellular.UnitSpikeTimes.fetch('unit_quality'))"
   ]
  },
  {
   "cell_type": "code",
   "execution_count": null,
   "metadata": {},
   "outputs": [],
   "source": [
    "a = (extracellular.TrialSegmentedUnitSpikeTimes * extracellular.PSTH & seg_param_key & leftlick_trial).fetch(\n",
    "    'segmented_spike_times', 'psth')"
   ]
  },
  {
   "cell_type": "code",
   "execution_count": null,
   "metadata": {},
   "outputs": [],
   "source": [
    "b = dict(zip(('spks', 'psth'), a))"
   ]
  },
  {
   "cell_type": "code",
   "execution_count": null,
   "metadata": {},
   "outputs": [],
   "source": [
    "b['psth'].shape"
   ]
  },
  {
   "cell_type": "code",
   "execution_count": null,
   "metadata": {},
   "outputs": [],
   "source": [
    "acquisition.TrialSet.Trial & 'trial_is_good=1'"
   ]
  },
  {
   "cell_type": "code",
   "execution_count": null,
   "metadata": {},
   "outputs": [],
   "source": [
    "set((acquisition.TrialSet.Trial & 'trial_is_good=1').fetch('trial_response'))"
   ]
  },
  {
   "cell_type": "code",
   "execution_count": null,
   "metadata": {},
   "outputs": [],
   "source": []
  },
  {
   "cell_type": "code",
   "execution_count": null,
   "metadata": {},
   "outputs": [],
   "source": []
  },
  {
   "cell_type": "code",
   "execution_count": null,
   "metadata": {},
   "outputs": [],
   "source": []
  },
  {
   "cell_type": "code",
   "execution_count": null,
   "metadata": {},
   "outputs": [],
   "source": []
  }
 ],
 "metadata": {
  "kernelspec": {
   "display_name": "Python 3",
   "language": "python",
   "name": "python3"
  },
  "language_info": {
   "codemirror_mode": {
    "name": "ipython",
    "version": 3
   },
   "file_extension": ".py",
   "mimetype": "text/x-python",
   "name": "python",
   "nbconvert_exporter": "python",
   "pygments_lexer": "ipython3",
   "version": "3.7.0"
  }
 },
 "nbformat": 4,
 "nbformat_minor": 2
}
